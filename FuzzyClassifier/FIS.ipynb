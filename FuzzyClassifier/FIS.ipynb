{
 "cells": [
  {
   "cell_type": "markdown",
   "metadata": {
    "id": "4Y8pAIpreqPJ"
   },
   "source": [
    "# **FIS**"
   ]
  },
  {
   "cell_type": "code",
   "execution_count": 24,
   "metadata": {
    "colab": {
     "base_uri": "https://localhost:8080/"
    },
    "id": "IkVL9_iMesMz",
    "outputId": "42a6235c-1f40-4fb0-d582-6ba7e36f0ad3"
   },
   "outputs": [
    {
     "name": "stdout",
     "output_type": "stream",
     "text": [
      "Requirement already satisfied: scikit-fuzzy in /usr/local/lib/python3.7/dist-packages (0.4.2)\n",
      "Requirement already satisfied: numpy>=1.6.0 in /usr/local/lib/python3.7/dist-packages (from scikit-fuzzy) (1.19.5)\n",
      "Requirement already satisfied: scipy>=0.9.0 in /usr/local/lib/python3.7/dist-packages (from scikit-fuzzy) (1.4.1)\n",
      "Requirement already satisfied: networkx>=1.9.0 in /usr/local/lib/python3.7/dist-packages (from scikit-fuzzy) (2.5.1)\n",
      "Requirement already satisfied: decorator<5,>=4.3 in /usr/local/lib/python3.7/dist-packages (from networkx>=1.9.0->scikit-fuzzy) (4.4.2)\n"
     ]
    }
   ],
   "source": [
    "import numpy as np\n",
    "!pip install scikit-fuzzy\n",
    "import skfuzzy as fuzz\n",
    "from skfuzzy import control as ctrl\n",
    "import pandas as pd"
   ]
  },
  {
   "cell_type": "code",
   "execution_count": 25,
   "metadata": {
    "colab": {
     "base_uri": "https://localhost:8080/"
    },
    "id": "Tecb8lgacGPe",
    "outputId": "5d62f284-73ce-48ab-f36e-6b4e507cce12"
   },
   "outputs": [
    {
     "name": "stdout",
     "output_type": "stream",
     "text": [
      "Drive already mounted at /content/drive; to attempt to forcibly remount, call drive.mount(\"/content/drive\", force_remount=True).\n"
     ]
    }
   ],
   "source": [
    "from google.colab import drive\n",
    "drive.mount('/content/drive')"
   ]
  },
  {
   "cell_type": "code",
   "execution_count": 26,
   "metadata": {
    "colab": {
     "base_uri": "https://localhost:8080/",
     "height": 203
    },
    "id": "Op490AHcfQGk",
    "outputId": "11a0ebb2-226c-442f-adc4-73ad039a3c97"
   },
   "outputs": [
    {
     "data": {
      "text/html": [
       "<div>\n",
       "<style scoped>\n",
       "    .dataframe tbody tr th:only-of-type {\n",
       "        vertical-align: middle;\n",
       "    }\n",
       "\n",
       "    .dataframe tbody tr th {\n",
       "        vertical-align: top;\n",
       "    }\n",
       "\n",
       "    .dataframe thead th {\n",
       "        text-align: right;\n",
       "    }\n",
       "</style>\n",
       "<table border=\"1\" class=\"dataframe\">\n",
       "  <thead>\n",
       "    <tr style=\"text-align: right;\">\n",
       "      <th></th>\n",
       "      <th>Relative Velocity km per sec</th>\n",
       "      <th>Orbit ID</th>\n",
       "      <th>Orbit Uncertainity</th>\n",
       "      <th>Minimum Orbit Intersection</th>\n",
       "      <th>Eccentricity</th>\n",
       "      <th>Orbital Period</th>\n",
       "      <th>Mean Anomaly</th>\n",
       "      <th>hazardous</th>\n",
       "    </tr>\n",
       "  </thead>\n",
       "  <tbody>\n",
       "    <tr>\n",
       "      <th>0</th>\n",
       "      <td>6.115834</td>\n",
       "      <td>17</td>\n",
       "      <td>5</td>\n",
       "      <td>0.025282</td>\n",
       "      <td>0.425549</td>\n",
       "      <td>609.599786</td>\n",
       "      <td>264.837533</td>\n",
       "      <td>1</td>\n",
       "    </tr>\n",
       "    <tr>\n",
       "      <th>1</th>\n",
       "      <td>18.113985</td>\n",
       "      <td>21</td>\n",
       "      <td>3</td>\n",
       "      <td>0.186935</td>\n",
       "      <td>0.351674</td>\n",
       "      <td>425.869294</td>\n",
       "      <td>173.741112</td>\n",
       "      <td>0</td>\n",
       "    </tr>\n",
       "    <tr>\n",
       "      <th>2</th>\n",
       "      <td>7.590711</td>\n",
       "      <td>22</td>\n",
       "      <td>0</td>\n",
       "      <td>0.043058</td>\n",
       "      <td>0.348248</td>\n",
       "      <td>643.580228</td>\n",
       "      <td>292.893654</td>\n",
       "      <td>1</td>\n",
       "    </tr>\n",
       "    <tr>\n",
       "      <th>3</th>\n",
       "      <td>11.173875</td>\n",
       "      <td>7</td>\n",
       "      <td>6</td>\n",
       "      <td>0.005512</td>\n",
       "      <td>0.216578</td>\n",
       "      <td>514.082140</td>\n",
       "      <td>68.741007</td>\n",
       "      <td>0</td>\n",
       "    </tr>\n",
       "    <tr>\n",
       "      <th>4</th>\n",
       "      <td>9.840831</td>\n",
       "      <td>25</td>\n",
       "      <td>1</td>\n",
       "      <td>0.034798</td>\n",
       "      <td>0.210448</td>\n",
       "      <td>495.597821</td>\n",
       "      <td>135.142133</td>\n",
       "      <td>1</td>\n",
       "    </tr>\n",
       "  </tbody>\n",
       "</table>\n",
       "</div>"
      ],
      "text/plain": [
       "   Relative Velocity km per sec  Orbit ID  ...  Mean Anomaly  hazardous\n",
       "0                      6.115834        17  ...    264.837533          1\n",
       "1                     18.113985        21  ...    173.741112          0\n",
       "2                      7.590711        22  ...    292.893654          1\n",
       "3                     11.173875         7  ...     68.741007          0\n",
       "4                      9.840831        25  ...    135.142133          1\n",
       "\n",
       "[5 rows x 8 columns]"
      ]
     },
     "execution_count": 26,
     "metadata": {
      "tags": []
     },
     "output_type": "execute_result"
    }
   ],
   "source": [
    "data_path = \"/content/drive/MyDrive/Colab Notebooks/ADM_Project/GA/outputGA.csv\"\n",
    "pd_data = pd.read_csv(data_path)\n",
    "pd_data.head()"
   ]
  },
  {
   "cell_type": "code",
   "execution_count": 27,
   "metadata": {
    "colab": {
     "base_uri": "https://localhost:8080/",
     "height": 265
    },
    "id": "Z7BPev-BQt9S",
    "outputId": "60420fcb-0dc1-4554-80fa-68fac47b1d6d"
   },
   "outputs": [
    {
     "data": {
      "text/html": [
       "<div>\n",
       "<style scoped>\n",
       "    .dataframe tbody tr th:only-of-type {\n",
       "        vertical-align: middle;\n",
       "    }\n",
       "\n",
       "    .dataframe tbody tr th {\n",
       "        vertical-align: top;\n",
       "    }\n",
       "\n",
       "    .dataframe thead th {\n",
       "        text-align: right;\n",
       "    }\n",
       "</style>\n",
       "<table border=\"1\" class=\"dataframe\">\n",
       "  <thead>\n",
       "    <tr style=\"text-align: right;\">\n",
       "      <th></th>\n",
       "      <th>0</th>\n",
       "      <th>1</th>\n",
       "      <th>2</th>\n",
       "      <th>3</th>\n",
       "      <th>4</th>\n",
       "      <th>5</th>\n",
       "    </tr>\n",
       "  </thead>\n",
       "  <tbody>\n",
       "    <tr>\n",
       "      <th>0</th>\n",
       "      <td>0.335504</td>\n",
       "      <td>9.195153</td>\n",
       "      <td>18.054801</td>\n",
       "      <td>26.914450</td>\n",
       "      <td>35.774098</td>\n",
       "      <td>44.633747</td>\n",
       "    </tr>\n",
       "    <tr>\n",
       "      <th>1</th>\n",
       "      <td>1.000000</td>\n",
       "      <td>123.000000</td>\n",
       "      <td>245.000000</td>\n",
       "      <td>367.000000</td>\n",
       "      <td>489.000000</td>\n",
       "      <td>611.000000</td>\n",
       "    </tr>\n",
       "    <tr>\n",
       "      <th>2</th>\n",
       "      <td>0.000000</td>\n",
       "      <td>1.800000</td>\n",
       "      <td>3.600000</td>\n",
       "      <td>5.400000</td>\n",
       "      <td>7.200000</td>\n",
       "      <td>9.000000</td>\n",
       "    </tr>\n",
       "    <tr>\n",
       "      <th>3</th>\n",
       "      <td>0.000002</td>\n",
       "      <td>0.095580</td>\n",
       "      <td>0.191158</td>\n",
       "      <td>0.286735</td>\n",
       "      <td>0.382313</td>\n",
       "      <td>0.477891</td>\n",
       "    </tr>\n",
       "    <tr>\n",
       "      <th>4</th>\n",
       "      <td>0.007522</td>\n",
       "      <td>0.198070</td>\n",
       "      <td>0.388618</td>\n",
       "      <td>0.579165</td>\n",
       "      <td>0.769713</td>\n",
       "      <td>0.960261</td>\n",
       "    </tr>\n",
       "    <tr>\n",
       "      <th>5</th>\n",
       "      <td>176.557161</td>\n",
       "      <td>975.691998</td>\n",
       "      <td>1774.826834</td>\n",
       "      <td>2573.961670</td>\n",
       "      <td>3373.096507</td>\n",
       "      <td>4172.231343</td>\n",
       "    </tr>\n",
       "    <tr>\n",
       "      <th>6</th>\n",
       "      <td>0.003191</td>\n",
       "      <td>71.986151</td>\n",
       "      <td>143.969111</td>\n",
       "      <td>215.952071</td>\n",
       "      <td>287.935031</td>\n",
       "      <td>359.917991</td>\n",
       "    </tr>\n",
       "  </tbody>\n",
       "</table>\n",
       "</div>"
      ],
      "text/plain": [
       "            0           1            2            3            4            5\n",
       "0    0.335504    9.195153    18.054801    26.914450    35.774098    44.633747\n",
       "1    1.000000  123.000000   245.000000   367.000000   489.000000   611.000000\n",
       "2    0.000000    1.800000     3.600000     5.400000     7.200000     9.000000\n",
       "3    0.000002    0.095580     0.191158     0.286735     0.382313     0.477891\n",
       "4    0.007522    0.198070     0.388618     0.579165     0.769713     0.960261\n",
       "5  176.557161  975.691998  1774.826834  2573.961670  3373.096507  4172.231343\n",
       "6    0.003191   71.986151   143.969111   215.952071   287.935031   359.917991"
      ]
     },
     "execution_count": 27,
     "metadata": {
      "tags": []
     },
     "output_type": "execute_result"
    }
   ],
   "source": [
    "data_path = \"/content/drive/MyDrive/Colab Notebooks/ADM_Project/GA/disc5bin_edges.csv\"\n",
    "bin_range = pd.read_csv(data_path)\n",
    "bin_range"
   ]
  },
  {
   "cell_type": "code",
   "execution_count": 28,
   "metadata": {
    "id": "ogsigQw8gRJv"
   },
   "outputs": [],
   "source": [
    "cols = list(pd_data.columns)"
   ]
  },
  {
   "cell_type": "code",
   "execution_count": 29,
   "metadata": {
    "colab": {
     "base_uri": "https://localhost:8080/"
    },
    "id": "-EDMCj6FQ4bW",
    "outputId": "043f5ee8-cfb2-4f3b-de68-15e1b4a4a47c"
   },
   "outputs": [
    {
     "data": {
      "text/plain": [
       "['Relative Velocity km per sec',\n",
       " 'Orbit ID',\n",
       " 'Orbit Uncertainity',\n",
       " 'Minimum Orbit Intersection',\n",
       " 'Eccentricity',\n",
       " 'Orbital Period',\n",
       " 'Mean Anomaly',\n",
       " 'hazardous']"
      ]
     },
     "execution_count": 29,
     "metadata": {
      "tags": []
     },
     "output_type": "execute_result"
    }
   ],
   "source": [
    "cols"
   ]
  },
  {
   "cell_type": "code",
   "execution_count": 30,
   "metadata": {
    "colab": {
     "base_uri": "https://localhost:8080/"
    },
    "id": "Sz64YYFqyi7B",
    "outputId": "34f586bd-63f9-44ed-b5bf-24bbc31996e8"
   },
   "outputs": [
    {
     "name": "stdout",
     "output_type": "stream",
     "text": [
      "7\n"
     ]
    }
   ],
   "source": [
    "cols = cols[:-1]\n",
    "print(len(cols))"
   ]
  },
  {
   "cell_type": "code",
   "execution_count": 31,
   "metadata": {
    "colab": {
     "base_uri": "https://localhost:8080/"
    },
    "id": "d7qtsp_OQ704",
    "outputId": "36297689-c5a4-4b27-aea5-332fb8dc9453"
   },
   "outputs": [
    {
     "data": {
      "text/plain": [
       "['Relative Velocity km per sec',\n",
       " 'Orbit ID',\n",
       " 'Orbit Uncertainity',\n",
       " 'Minimum Orbit Intersection',\n",
       " 'Eccentricity',\n",
       " 'Orbital Period',\n",
       " 'Mean Anomaly']"
      ]
     },
     "execution_count": 31,
     "metadata": {
      "tags": []
     },
     "output_type": "execute_result"
    }
   ],
   "source": [
    "cols"
   ]
  },
  {
   "cell_type": "code",
   "execution_count": 32,
   "metadata": {
    "id": "LXpvOE1kRqX4"
   },
   "outputs": [],
   "source": [
    "fuzzy_var = {}"
   ]
  },
  {
   "cell_type": "code",
   "execution_count": 33,
   "metadata": {
    "id": "ydfkocZkRNV_"
   },
   "outputs": [],
   "source": [
    "\n",
    "for i,j in zip(cols, range(len(bin_range))):\n",
    "  fuzzy_var[j] = ctrl.Antecedent(np.arange(pd_data[i].min(), pd_data[i].max(), (pd_data[i].max()-pd_data[i].min())/5000), i)\n",
    "  fuzzy_var[j].automf(5, names = ['0','1', '2', '3', '4'])\n"
   ]
  },
  {
   "cell_type": "code",
   "execution_count": 34,
   "metadata": {
    "colab": {
     "base_uri": "https://localhost:8080/",
     "height": 119
    },
    "id": "dTkov6EGclEI",
    "outputId": "78c9604a-d584-4850-eae0-a859b41c8475"
   },
   "outputs": [
    {
     "data": {
      "application/vnd.google.colaboratory.intrinsic+json": {
       "type": "string"
      },
      "text/plain": [
       "\"\\nfor i,j in zip(cols, range(len(bin_range))):\\n  l = list(bin_range.iloc[j])\\n  fuzzy_var[j] = ctrl.Antecedent(np.arange(pd_data[i].min(), pd_data[i].max(), (pd_data[i].max()-pd_data[i].min())/pd_data.shape[0]), i)\\n  fuzzy_var[j]['0'] = fuzz.trimf(fuzzy_var[j].universe, [l[0], l[0], (l[1] + l[2]) / 2])\\n  fuzzy_var[j]['1'] = fuzz.trimf(fuzzy_var[j].universe, [(l[0] + l[1]) / 2, (l[1] + l[2]) / 2, (l[2] + l[3]) / 2])\\n  fuzzy_var[j]['2'] = fuzz.trimf(fuzzy_var[j].universe, [(l[1] + l[2]) / 2, (l[2] + l[3]) / 2, (l[3] + l[4]) / 2])\\n  fuzzy_var[j]['3'] = fuzz.trimf(fuzzy_var[j].universe, [(l[2] + l[3]) / 2, (l[3] + l[4]) / 2, (l[4] + l[5]) / 2])\\n  fuzzy_var[j]['4'] = fuzz.trimf(fuzzy_var[j].universe, [(l[3] + l[4]) / 2, l[5], l[5]])\\n\\n\""
      ]
     },
     "execution_count": 34,
     "metadata": {
      "tags": []
     },
     "output_type": "execute_result"
    }
   ],
   "source": [
    "\"\"\"\n",
    "for i,j in zip(cols, range(len(bin_range))):\n",
    "  l = list(bin_range.iloc[j])\n",
    "  fuzzy_var[j] = ctrl.Antecedent(np.arange(pd_data[i].min(), pd_data[i].max(), (pd_data[i].max()-pd_data[i].min())/pd_data.shape[0]), i)\n",
    "  fuzzy_var[j]['0'] = fuzz.trimf(fuzzy_var[j].universe, [l[0], l[0], (l[1] + l[2]) / 2])\n",
    "  fuzzy_var[j]['1'] = fuzz.trimf(fuzzy_var[j].universe, [(l[0] + l[1]) / 2, (l[1] + l[2]) / 2, (l[2] + l[3]) / 2])\n",
    "  fuzzy_var[j]['2'] = fuzz.trimf(fuzzy_var[j].universe, [(l[1] + l[2]) / 2, (l[2] + l[3]) / 2, (l[3] + l[4]) / 2])\n",
    "  fuzzy_var[j]['3'] = fuzz.trimf(fuzzy_var[j].universe, [(l[2] + l[3]) / 2, (l[3] + l[4]) / 2, (l[4] + l[5]) / 2])\n",
    "  fuzzy_var[j]['4'] = fuzz.trimf(fuzzy_var[j].universe, [(l[3] + l[4]) / 2, l[5], l[5]])\n",
    "\n",
    "\"\"\""
   ]
  },
  {
   "cell_type": "code",
   "execution_count": 35,
   "metadata": {
    "colab": {
     "base_uri": "https://localhost:8080/",
     "height": 281
    },
    "id": "2DdhZxkDRH7H",
    "outputId": "be54888f-473f-4a5e-93fa-4f23ee6dcd71"
   },
   "outputs": [
    {
     "data": {
      "image/png": "[encoded data removed]",
      "text/plain": [
       "<Figure size 432x288 with 1 Axes>"
      ]
     },
     "metadata": {
      "needs_background": "light",
      "tags": []
     },
     "output_type": "display_data"
    }
   ],
   "source": [
    "fuzzy_var[0].view()"
   ]
  },
  {
   "cell_type": "code",
   "execution_count": 36,
   "metadata": {
    "colab": {
     "base_uri": "https://localhost:8080/",
     "height": 281
    },
    "id": "jpViD8tjTcyf",
    "outputId": "fab9e395-2b81-4a8b-a8a3-596d56c8466a"
   },
   "outputs": [
    {
     "data": {
      "image/png": "[encoded data removed]",
      "text/plain": [
       "<Figure size 432x288 with 1 Axes>"
      ]
     },
     "metadata": {
      "needs_background": "light",
      "tags": []
     },
     "output_type": "display_data"
    }
   ],
   "source": [
    "label = ctrl.Consequent(np.arange(0, 1.01, 0.01), 'label', defuzzify_method='mom')\n",
    "label['0'] = fuzz.trimf(label.universe,[0,0,0.8])\n",
    "label['1'] = fuzz.trimf(label.universe,[0.2,1,1])\n",
    "label.view()"
   ]
  },
  {
   "cell_type": "code",
   "execution_count": 37,
   "metadata": {
    "colab": {
     "base_uri": "https://localhost:8080/"
    },
    "id": "xZiZ6fZ8yoTy",
    "outputId": "0c9966ce-3fa7-4cfc-82ab-88541d057e86"
   },
   "outputs": [
    {
     "name": "stdout",
     "output_type": "stream",
     "text": [
      "0 Relative Velocity km per sec\n",
      "1 Orbit ID\n",
      "2 Orbit Uncertainity\n",
      "3 Minimum Orbit Intersection\n",
      "4 Eccentricity\n",
      "5 Orbital Period\n",
      "6 Mean Anomaly\n"
     ]
    }
   ],
   "source": [
    "for i in range(len(cols)):\n",
    "  print(i, cols[i])"
   ]
  },
  {
   "cell_type": "code",
   "execution_count": 38,
   "metadata": {
    "id": "q1oCx8jnTy2V"
   },
   "outputs": [],
   "source": [
    "rule1 = ctrl.Rule( (fuzzy_var[3]['1'] | fuzzy_var[3]['2'] | fuzzy_var[3]['3'] | fuzzy_var[3]['4']), label['0'])\n",
    "rule2 = ctrl.Rule( (fuzzy_var[3]['0'] ) & (fuzzy_var[2]['2'] | fuzzy_var[2]['3'] | fuzzy_var[2]['4']) & (fuzzy_var[4]['0'] | fuzzy_var[4]['1'] | fuzzy_var[4]['2'] | fuzzy_var[4]['3']), label['0'] )\n",
    "rule3 = ctrl.Rule( (fuzzy_var[3]['0'] ) & (fuzzy_var[2]['4']) & (fuzzy_var[4]['4']), label['0'] )\n",
    "rule4 = ctrl.Rule( (fuzzy_var[3]['0'] ) & (fuzzy_var[2]['0'] | fuzzy_var[2]['1']) & ( fuzzy_var[4]['0'] | fuzzy_var[4]['1']) & ( fuzzy_var[1]['0'] ), label['0'] )\n",
    "rule5 = ctrl.Rule( (fuzzy_var[3]['0'] ) & (fuzzy_var[2]['2'] | fuzzy_var[2]['3'] | fuzzy_var[2]['4']) & ( fuzzy_var[4]['4']), label['1'] )\n",
    "rule6 = ctrl.Rule( (fuzzy_var[3]['0'] ) & (fuzzy_var[2]['0'] | fuzzy_var[2]['1']) & (fuzzy_var[4]['2'] | fuzzy_var[4]['3'] | fuzzy_var[4]['4']), label['1'] )\n",
    "rule7 = ctrl.Rule( (fuzzy_var[3]['0'] ) & (fuzzy_var[2]['0'] | fuzzy_var[2]['1']) & (fuzzy_var[4]['0'] | fuzzy_var[4]['1']) & ( fuzzy_var[1]['1'] | fuzzy_var[1]['2'] | fuzzy_var[1]['3'] | fuzzy_var[1]['4']), label['1']  )"
   ]
  },
  {
   "cell_type": "code",
   "execution_count": 39,
   "metadata": {
    "colab": {
     "base_uri": "https://localhost:8080/"
    },
    "id": "L-P9t_G5UCye",
    "outputId": "a9d48361-82f1-4a85-b0cb-9e20279fc256"
   },
   "outputs": [
    {
     "data": {
      "text/plain": [
       "IF ((Minimum Orbit Intersection[0] AND (Orbit Uncertainity[0] OR Orbit Uncertainity[1])) AND (Eccentricity[0] OR Eccentricity[1])) AND (((Orbit ID[1] OR Orbit ID[2]) OR Orbit ID[3]) OR Orbit ID[4]) THEN label[1]\n",
       "\tAND aggregation function : fmin\n",
       "\tOR aggregation function  : fmax"
      ]
     },
     "execution_count": 39,
     "metadata": {
      "tags": []
     },
     "output_type": "execute_result"
    }
   ],
   "source": [
    "rule7"
   ]
  },
  {
   "cell_type": "code",
   "execution_count": 40,
   "metadata": {
    "id": "QOdx5b4WUHBw"
   },
   "outputs": [],
   "source": [
    "label_ctrl = ctrl.ControlSystem([rule1, rule2, rule3, rule4, rule5, rule6, rule7])"
   ]
  },
  {
   "cell_type": "code",
   "execution_count": 41,
   "metadata": {
    "id": "ZnAWuhoAUN80"
   },
   "outputs": [],
   "source": [
    "FIS = ctrl.ControlSystemSimulation(label_ctrl)"
   ]
  },
  {
   "cell_type": "code",
   "execution_count": 42,
   "metadata": {
    "colab": {
     "base_uri": "https://localhost:8080/"
    },
    "id": "VUPILGOuURZB",
    "outputId": "8e4a0e5a-5773-4651-e2b3-706ebf446241"
   },
   "outputs": [
    {
     "data": {
      "text/plain": [
       "Minimum Orbit Intersection : None\n",
       "Orbit Uncertainity : None\n",
       "Eccentricity : None\n",
       "Orbit ID : None"
      ]
     },
     "execution_count": 42,
     "metadata": {
      "tags": []
     },
     "output_type": "execute_result"
    }
   ],
   "source": [
    "FIS.input"
   ]
  },
  {
   "cell_type": "code",
   "execution_count": 43,
   "metadata": {
    "colab": {
     "base_uri": "https://localhost:8080/"
    },
    "id": "kJqT28kVY5Hn",
    "outputId": "dca5ee79-b4c9-4b20-8950-0c44870208c2"
   },
   "outputs": [
    {
     "data": {
      "text/plain": [
       "skfuzzy.control.controlsystem._InputAcceptor"
      ]
     },
     "execution_count": 43,
     "metadata": {
      "tags": []
     },
     "output_type": "execute_result"
    }
   ],
   "source": [
    "type(FIS.input)"
   ]
  },
  {
   "cell_type": "code",
   "execution_count": 44,
   "metadata": {
    "id": "JqNcrVv5UUyC"
   },
   "outputs": [],
   "source": [
    "l = ['Orbit Uncertainity', 'Minimum Orbit Intersection',  'Eccentricity', 'Orbit ID']"
   ]
  },
  {
   "cell_type": "code",
   "execution_count": 45,
   "metadata": {
    "colab": {
     "base_uri": "https://localhost:8080/",
     "height": 314
    },
    "id": "AQW5H_ZQUibI",
    "outputId": "0682184b-c509-434e-ecc8-998c0a851537"
   },
   "outputs": [
    {
     "name": "stdout",
     "output_type": "stream",
     "text": [
      "1\n",
      "0.8173200189249503\n"
     ]
    },
    {
     "data": {
      "image/png": "[encoded data removed]",
      "text/plain": [
       "<Figure size 432x288 with 1 Axes>"
      ]
     },
     "metadata": {
      "needs_background": "light",
      "tags": []
     },
     "output_type": "display_data"
    }
   ],
   "source": [
    "print(pd_data.iloc[22,7])\n",
    "for i in l:\n",
    "  FIS.input[i] = pd_data.iloc[22][i]\n",
    "FIS.compute()\n",
    "print(FIS.output['label'])\n",
    "label.view(sim=FIS)"
   ]
  },
  {
   "cell_type": "markdown",
   "metadata": {
    "id": "KLFBlWzhU97R"
   },
   "source": [
    "# **Accuracy**"
   ]
  },
  {
   "cell_type": "code",
   "execution_count": 47,
   "metadata": {
    "colab": {
     "base_uri": "https://localhost:8080/"
    },
    "id": "7aYJdC0GU8xy",
    "outputId": "75a4593b-c0c1-4daf-da07-c0655ff955c5"
   },
   "outputs": [
    {
     "name": "stdout",
     "output_type": "stream",
     "text": [
      "Accuracy of Fuzzy Classifier:  0.9050565393641988\n"
     ]
    }
   ],
   "source": [
    "predict = []\n",
    "for j in range(pd_data.shape[0]):\n",
    "    pd_data.iloc[j]\n",
    "    l = ['Orbit Uncertainity', 'Minimum Orbit Intersection',  'Eccentricity', 'Orbit ID']\n",
    "    for i in l:\n",
    "      FIS.input[i] = pd_data.iloc[j][i]\n",
    "    FIS.compute()\n",
    "    if (FIS.output['label'] < 0.5):\n",
    "      predict.append(0)\n",
    "    else:\n",
    "      predict.append(1)\n",
    "\n",
    "from sklearn.metrics import accuracy_score\n",
    "print(\"Accuracy of Fuzzy Classifier: \",accuracy_score(pd_data['hazardous'], predict))\n",
    "\n"
   ]
  }
 ],
 "metadata": {
  "colab": {
   "collapsed_sections": [],
   "name": "GA_ADM1.ipynb",
   "provenance": []
  },
  "kernelspec": {
   "display_name": "Python 3",
   "language": "python",
   "name": "python3"
  },
  "language_info": {
   "codemirror_mode": {
    "name": "ipython",
    "version": 3
   },
   "file_extension": ".py",
   "mimetype": "text/x-python",
   "name": "python",
   "nbconvert_exporter": "python",
   "pygments_lexer": "ipython3",
   "version": "3.9.5"
  }
 },
 "nbformat": 4,
 "nbformat_minor": 1
}
